{
 "cells": [
  {
   "cell_type": "code",
   "execution_count": 2,
   "id": "49152e73",
   "metadata": {},
   "outputs": [],
   "source": [
    "# Imports\n",
    "from bs4 import BeautifulSoup"
   ]
  },
  {
   "cell_type": "code",
   "execution_count": 4,
   "id": "799ea9f0",
   "metadata": {},
   "outputs": [
    {
     "name": "stdout",
     "output_type": "stream",
     "text": [
      "Retrieved Web content: \n",
      "\n",
      "'\n",
      "<html lang=\"sl\"><head><script>function Location(){\r\n",
      "location.replace(\"/evem/drzavljani/zacetna.evem\")\r\n",
      "}</script><title>Portal evem</title></head><body onLoad=\"Location()\" ></body></html>\n",
      "'\n"
     ]
    }
   ],
   "source": [
    "import urllib \n",
    "\n",
    "WEB_PAGE_ADDRESS = \"http://evem.gov.si\"\n",
    "\n",
    "request = urllib.request.Request(\n",
    "    WEB_PAGE_ADDRESS, \n",
    "    headers={'User-Agent': 'fri-ieps-TEST'}\n",
    ")\n",
    "\n",
    "with urllib.request.urlopen(request) as response: \n",
    "    html = response.read().decode(\"utf-8\")\n",
    "    print(f\"Retrieved Web content: \\n\\n'\\n{html}\\n'\")"
   ]
  },
  {
   "cell_type": "code",
   "execution_count": 16,
   "id": "dbac978d",
   "metadata": {
    "scrolled": true
   },
   "outputs": [
    {
     "name": "stdout",
     "output_type": "stream",
     "text": [
      "Retrieving web page URL 'http://evem.gov.si'\n",
      "Retrieved Web content (truncated to first 900 chars): \n",
      "\n",
      "'\n",
      "<html lang=\"sl\" class=\" js rgba\"><head>\n",
      "    <meta http-equiv=\"Content-Type\" content=\"text/html; charset=utf-8\">\n",
      "    <meta content=\"IE=11.0000\" http-equiv=\"X-UA-Compatible\">\n",
      "    <meta name=\"viewport\" content=\"width=device-width, initial-scale=1, shrink-to-fit=no\">\n",
      "    \n",
      "    <base href=\"http://evem.gov.si/evem/\">\n",
      "    <title>\n",
      "      SPOT - Državni portal za poslovne subjekte in samostojne podjetnike\n",
      "    </title>\n",
      "    <script language=\"JavaScript\" type=\"text/JavaScript\">\n",
      "  var _staticResourcesRoot = 'http://evem.gov.si/evem_static/';\n",
      "</script>\n",
      "    <link rel=\"shortcut icon\" href=\"http://evem.gov.si/evem_static/favicon.ico?v=3\">\n",
      "    <link rel=\"apple-touch-icon\" type=\"image/png\" sizes=\"180x180\" href=\"http://evem.gov.si/evem_static/apple-touch-icon.png\">\n",
      "\t<link rel=\"icon\" type=\"image/png\" sizes=\"32x32\" href=\"http://evem.gov.si/evem_static/favicon-32x32.png\">\n",
      "\t<link rel=\"icon\" type=\"image/png\" sizes\n",
      "'\n",
      "\n",
      "Web page message: 'Portal SPOT vam omogoča e-poslovanje z državo. V portal se prijavite s kvalificiranim digitalnim potrdilom. Več informacij o prijavi na portal SPOT.'\n",
      "-----------------------------------------------------------------------------------------------------------------------\n",
      "Found the URL: http://evem.gov.si/evem_static/favicon.ico?v=3\n",
      "Found the URL: http://evem.gov.si/evem_static/apple-touch-icon.png\n",
      "Found the URL: http://evem.gov.si/evem_static/favicon-32x32.png\n",
      "Found the URL: http://evem.gov.si/evem_static/android-chrome-192x192.png\n",
      "Found the URL: http://evem.gov.si/evem_static/favicon-16x16.png\n",
      "Found the URL: http://evem.gov.si/evem_static/cssmin/evem.zacetna.css?v=2NcbI0cC54XHPbei2iXuxGhC3T8=\n"
     ]
    }
   ],
   "source": [
    "import time\n",
    "from selenium import webdriver\n",
    "from selenium.webdriver.chrome.options import Options\n",
    "\n",
    "WEB_DRIVER_LOCATION = \"C:/ManualInstalls/ChromeDriver/chromedriver.exe\"\n",
    "TIMEOUT = 5\n",
    "\n",
    "chrome_options = Options()\n",
    "# If you comment the following line, a browser will show ...\n",
    "#chrome_options.add_argument(\"--headless\")\n",
    "\n",
    "#Adding a specific user agent\n",
    "chrome_options.add_argument(\"user-agent=fri-ieps-TEST\")\n",
    "\n",
    "print(f\"Retrieving web page URL '{WEB_PAGE_ADDRESS}'\")\n",
    "driver = webdriver.Chrome(WEB_DRIVER_LOCATION, options=chrome_options)\n",
    "driver.get(WEB_PAGE_ADDRESS)\n",
    "\n",
    "# Timeout needed for Web page to render (read more about it)\n",
    "time.sleep(TIMEOUT)\n",
    "\n",
    "html = driver.page_source\n",
    "\n",
    "print(f\"Retrieved Web content (truncated to first 900 chars): \\n\\n'\\n{html[:900]}\\n'\\n\")\n",
    "\n",
    "page_msg = driver.find_element_by_class_name(\"inside-text\")\n",
    "\n",
    "print(f\"Web page message: '{page_msg.text}'\")\n",
    "\n",
    "print(\"-----------------------------------------------------------------------------------------------------------------------\")\n",
    "\n",
    "\n",
    "# Finding all the links in the page\n",
    "\n",
    "soup = BeautifulSoup(html, 'html.parser')\n",
    "# soup.findall('link').gethref()\n",
    "# print(soup)\n",
    "for link in soup.find_all('link'):\n",
    "    print(\"Found the URL:\", link['href'])\n",
    "\n",
    "\n",
    "\n",
    "driver.close()"
   ]
  },
  {
   "cell_type": "code",
   "execution_count": null,
   "id": "fc8ab113",
   "metadata": {},
   "outputs": [],
   "source": []
  }
 ],
 "metadata": {
  "kernelspec": {
   "display_name": "Python 3",
   "language": "python",
   "name": "python3"
  },
  "language_info": {
   "codemirror_mode": {
    "name": "ipython",
    "version": 3
   },
   "file_extension": ".py",
   "mimetype": "text/x-python",
   "name": "python",
   "nbconvert_exporter": "python",
   "pygments_lexer": "ipython3",
   "version": "3.6.13"
  }
 },
 "nbformat": 4,
 "nbformat_minor": 5
}
